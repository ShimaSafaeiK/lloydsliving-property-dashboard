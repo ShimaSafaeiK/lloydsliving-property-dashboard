{
 "cells": [
  {
   "cell_type": "code",
   "execution_count": 321,
   "id": "6db45080-5a6a-4f83-9613-85da260bcc81",
   "metadata": {},
   "outputs": [
    {
     "data": {
      "text/plain": [
       "(    COB Date  Site ID  Property ID Gas Cetificate Expiry EPC Ratings  \\\n",
       " 0 2025-01-31       25        736.0            07/05/2025           C   \n",
       " 1 2025-01-31       25        745.0            12/08/2025           C   \n",
       " 2 2025-01-31       25        747.0            24/01/2026           C   \n",
       " 3 2025-01-31       25        749.0            06/09/2025           C   \n",
       " 4 2025-01-31       25        754.0            25/01/2026           C   \n",
       " \n",
       "   EICR Expiry PAT Expiry Occupancy Status  Current ERV  Achieved Rent PCM  \\\n",
       " 0  19/10/2025        NaN         Occupied       1400.0             1400.0   \n",
       " 1  02/12/2025        NaN         Occupied       1395.0             1395.0   \n",
       " 2  13/09/2027        NaN         Occupied       1300.0             1300.0   \n",
       " 3  19/10/2025        NaN         Occupied       1350.0             1350.0   \n",
       " 4  18/01/2028        NaN         Occupied       1350.0             1350.0   \n",
       " \n",
       "   Vacant date EPC Expiry Date  \n",
       " 0  2008-03-28      2027-05-25  \n",
       " 1  2008-01-23      2030-09-22  \n",
       " 2  2007-10-17      2026-08-30  \n",
       " 3  2008-01-16      2030-09-02  \n",
       " 4  2008-02-06      2030-09-22  ,\n",
       "         Date  Site ID                       Name Managing Agent  \\\n",
       " 0 2025-01-31        1           Prime Properties        Agent 3   \n",
       " 1 2025-01-31        2         Dream Homes Realty        Agent 3   \n",
       " 2 2025-01-31        3            Stellar Estates        Agent 3   \n",
       " 3 2025-01-31        4         Elite Realty Group        Agent 3   \n",
       " 4 2025-01-31        5  Proven Property Solutions        Agent 3   \n",
       " \n",
       "   Head of Region      Status  \n",
       " 0            Sam  Stabilised  \n",
       " 1            Sam  Stabilised  \n",
       " 2            Sam  Stabilised  \n",
       " 3            Sam  Stabilised  \n",
       " 4            Sam  Stabilised  ,\n",
       "          COB  Property ID  Site ID Status (Completed/Under Construction)  \\\n",
       " 0 2025-01-31            1        1                             Completed   \n",
       " 1 2025-01-31            2        1                             Completed   \n",
       " 2 2025-01-31            3        1                             Completed   \n",
       " 3 2025-01-31            4        1                             Completed   \n",
       " 4 2025-01-31            5        1                             Completed   \n",
       " \n",
       "   Status (Mobilising/Stabilised) Postcode  Plot Number  Size Sqft  \\\n",
       " 0                     Mobilising     CV10         54.0     1016.0   \n",
       " 1                     Mobilising     CV10         55.0     1016.0   \n",
       " 2                     Mobilising     CV10         56.0     1016.0   \n",
       " 3                     Mobilising     CV10         57.0     1016.0   \n",
       " 4                     Mobilising     CV10         58.0     1016.0   \n",
       " \n",
       "    Number of Bedrooms  Total Number of Bathrooms  ...  Handover Date  \\\n",
       " 0                 3.0                        2.0  ...     2024-04-26   \n",
       " 1                 3.0                        2.0  ...     2024-04-26   \n",
       " 2                 3.0                        2.0  ...     2024-04-26   \n",
       " 3                 3.0                        2.0  ...     2024-04-26   \n",
       " 4                 3.0                        2.0  ...     2024-04-26   \n",
       " \n",
       "   EPC Rating Solar Panels    Developer         Region  Freehold/Leasehold  \\\n",
       " 0          B            N  Developer A  West Midlands            Freehold   \n",
       " 1          B            N  Developer A  West Midlands            Freehold   \n",
       " 2          B            N  Developer A  West Midlands            Freehold   \n",
       " 3          B            N  Developer A  West Midlands            Freehold   \n",
       " 4          B            N  Developer A  West Midlands            Freehold   \n",
       " \n",
       "   Furnished EV Charger  Gas Target Handover Date  \n",
       " 0         N        NaN  Yes                  NaT  \n",
       " 1         N        NaN  Yes                  NaT  \n",
       " 2         N        NaN    Y                  NaT  \n",
       " 3         N        NaN    Y                  NaT  \n",
       " 4         N        NaN    Y                  NaT  \n",
       " \n",
       " [5 rows x 26 columns],\n",
       "     COB Date  Property ID Tenancy Start Date  Achieved Rent Rent change  \\\n",
       " 0 2025-01-31          736         2008-03-28         1400.0           N   \n",
       " 1 2025-01-31          745         2008-01-23         1395.0           N   \n",
       " 2 2025-01-31          747         2007-10-17         1300.0           N   \n",
       " 3 2025-01-31          749         2008-01-16         1350.0           N   \n",
       " 4 2025-01-31          754         2008-02-06         1350.0           N   \n",
       " \n",
       "   Next rent review date  Rent review  Rent Renewal increase  \\\n",
       " 0                   NaN          NaN                    0.0   \n",
       " 1                   NaN          NaN                    0.0   \n",
       " 2                   NaN          NaN                    0.0   \n",
       " 3                   NaN          NaN                    0.0   \n",
       " 4                   NaN          NaN                    0.0   \n",
       " \n",
       "    Previous Achieved Rent  \n",
       " 0                     0.0  \n",
       " 1                     0.0  \n",
       " 2                     0.0  \n",
       " 3                     0.0  \n",
       " 4                     0.0  )"
      ]
     },
     "execution_count": 321,
     "metadata": {},
     "output_type": "execute_result"
    }
   ],
   "source": [
    "# Load datasets\n",
    "\n",
    "\n",
    "import pandas as pd\n",
    "\n",
    "\n",
    "agent_df = pd.read_excel(\"LLoyds group project - agent/Agent.xlsx\")\n",
    "tenancy_df = pd.read_excel(\"LLoyds group project - agent/Mapping.xlsx\")\n",
    "mapping_df = pd.read_excel(\"LLoyds group project - agent/Stocklist.xlsx\")\n",
    "stocklist_df = pd.read_excel(\"LLoyds group project - agent/Tenancy.xlsx\")\n",
    "\n",
    "# Display first few rows to inspect\n",
    "agent_df.head(), tenancy_df.head(), mapping_df.head(), stocklist_df.head()"
   ]
  },
  {
   "cell_type": "code",
   "execution_count": 322,
   "id": "3ea68a21-18c7-47f5-86da-1cea5aa84fa7",
   "metadata": {},
   "outputs": [],
   "source": [
    "# Standardize column names\n",
    "# Convert all column names to lowercase.\n",
    "# Replace spaces with underscores for easy referencing.\n",
    "\n",
    "def clean_column_names(df):\n",
    "    df.columns = df.columns.str.lower().str.replace(\" \", \"_\")\n",
    "    return df\n",
    "\n",
    "# Apply to all dataframes\n",
    "agent_df = clean_column_names(agent_df)\n",
    "tenancy_df = clean_column_names(tenancy_df)\n",
    "mapping_df = clean_column_names(mapping_df)\n",
    "stocklist_df = clean_column_names(stocklist_df)"
   ]
  },
  {
   "cell_type": "code",
   "execution_count": 325,
   "id": "de2e4c10-7e9f-4f9a-957c-e3bbed71353f",
   "metadata": {},
   "outputs": [
    {
     "name": "stdout",
     "output_type": "stream",
     "text": [
      "Missing Values in Agent.xlsx:\n",
      "COB Date                    0\n",
      "Site ID                     0\n",
      "Property ID                60\n",
      "Gas Cetificate Expiry    1103\n",
      "EPC Ratings               577\n",
      "EICR Expiry               359\n",
      "PAT Expiry               3938\n",
      "Occupancy Status            0\n",
      "Current ERV                37\n",
      "Achieved Rent PCM         173\n",
      "Vacant date               214\n",
      "EPC Expiry Date           406\n",
      "dtype: int64\n"
     ]
    }
   ],
   "source": [
    "# Check Missing Values in Agent\n",
    "\n",
    "import pandas as pd\n",
    "\n",
    "# Load Agent Data\n",
    "agent_df = pd.read_excel(\"LLoyds group project - agent/Agent.xlsx\")\n",
    "\n",
    "# Count missing values per column\n",
    "missing_values_agent = agent_df.isnull().sum()\n",
    "\n",
    "# Display missing values\n",
    "print(\"Missing Values in Agent.xlsx:\")\n",
    "print(missing_values_agent)\n"
   ]
  },
  {
   "cell_type": "code",
   "execution_count": 327,
   "id": "c21bc4f2-0a1c-436e-9a69-b17facddef4f",
   "metadata": {},
   "outputs": [
    {
     "name": "stdout",
     "output_type": "stream",
     "text": [
      "Missing Values in Mapping.xlsx:\n",
      "Date              0\n",
      "Site ID           0\n",
      "Name              0\n",
      "Managing Agent    1\n",
      "Head of Region    0\n",
      "Status            2\n",
      "dtype: int64\n"
     ]
    }
   ],
   "source": [
    "#Check Missing Values in Mapping\n",
    "\n",
    "# Load Mapping Data\n",
    "mapping_df = pd.read_excel(\"LLoyds group project - agent/Mapping.xlsx\")\n",
    "\n",
    "# Count missing values per column\n",
    "missing_values_mapping = mapping_df.isnull().sum()\n",
    "\n",
    "# Display missing values\n",
    "print(\"Missing Values in Mapping.xlsx:\")\n",
    "print(missing_values_mapping)\n"
   ]
  },
  {
   "cell_type": "code",
   "execution_count": 329,
   "id": "5afd0187-fc24-47a6-937c-52b995294fe0",
   "metadata": {},
   "outputs": [
    {
     "name": "stdout",
     "output_type": "stream",
     "text": [
      "Missing Values in Stocklist.xlsx:\n",
      "COB                                         0\n",
      "Property ID                                 0\n",
      "Site ID                                     0\n",
      "Status (Completed/Under Construction)       0\n",
      "Status (Mobilising/Stabilised)             60\n",
      "Postcode                                  164\n",
      "Plot Number                              1402\n",
      "Size Sqft                                 272\n",
      "Number of Bedrooms                         11\n",
      "Total Number of Bathrooms                1230\n",
      "Number of Receptions                      609\n",
      "Property Type (Apartment/House)            11\n",
      "Property Style                            289\n",
      "Garage                                   2031\n",
      "Car Park Space                           1667\n",
      "Year of Build                            1445\n",
      "Handover Date                            1862\n",
      "EPC Rating                                  0\n",
      "Solar Panels                             1778\n",
      "Developer                                  33\n",
      "Region                                      0\n",
      "Freehold/Leasehold                        280\n",
      "Furnished                                3659\n",
      "EV Charger                               3166\n",
      "Gas                                       150\n",
      "Target Handover Date                     3416\n",
      "dtype: int64\n"
     ]
    }
   ],
   "source": [
    "# Check Missing Values in Stocklist\n",
    "\n",
    "# Load Stocklist Data\n",
    "stocklist_df = pd.read_excel(\"LLoyds group project - agent/Stocklist.xlsx\")\n",
    "\n",
    "# Count missing values per column\n",
    "missing_values_stocklist = stocklist_df.isnull().sum()\n",
    "\n",
    "# Display missing values\n",
    "print(\"Missing Values in Stocklist.xlsx:\")\n",
    "print(missing_values_stocklist)"
   ]
  },
  {
   "cell_type": "code",
   "execution_count": 331,
   "id": "a5924628-3ff3-4081-ae0e-1b7d9fa17e81",
   "metadata": {},
   "outputs": [
    {
     "name": "stdout",
     "output_type": "stream",
     "text": [
      "Missing Values in Tenancy.xlsx:\n",
      "COB Date                     0\n",
      "Property ID                  0\n",
      "Tenancy Start Date           2\n",
      "Achieved Rent                0\n",
      "Rent change                149\n",
      "Next rent review date      844\n",
      "Rent review               3083\n",
      "Rent Renewal increase     1981\n",
      "Previous Achieved Rent    1810\n",
      "dtype: int64\n"
     ]
    }
   ],
   "source": [
    "# Load Tenancy Tenancy\n",
    "tenancy_df = pd.read_excel(\"LLoyds group project - agent/Tenancy.xlsx\")\n",
    "\n",
    "# Count missing values per column\n",
    "missing_values_tenancy = tenancy_df.isnull().sum()\n",
    "\n",
    "# Display missing values\n",
    "print(\"Missing Values in Tenancy.xlsx:\")\n",
    "print(missing_values_tenancy)"
   ]
  },
  {
   "cell_type": "code",
   "execution_count": 333,
   "id": "c6217b8f-3da1-47eb-9a0a-7b19e5899fc3",
   "metadata": {},
   "outputs": [
    {
     "name": "stdout",
     "output_type": "stream",
     "text": [
      "Agent Columns: Index(['COB Date', 'Site ID', 'Property ID', 'Gas Cetificate Expiry',\n",
      "       'EPC Ratings', 'EICR Expiry', 'PAT Expiry', 'Occupancy Status',\n",
      "       'Current ERV', 'Achieved Rent PCM', 'Vacant date', 'EPC Expiry Date'],\n",
      "      dtype='object')\n",
      "Mapping Columns: Index(['Date', 'Site ID', 'Name', 'Managing Agent', 'Head of Region',\n",
      "       'Status'],\n",
      "      dtype='object')\n",
      "Stocklist Columns: Index(['COB', 'Property ID', 'Site ID',\n",
      "       'Status (Completed/Under Construction)',\n",
      "       'Status (Mobilising/Stabilised)', 'Postcode', 'Plot Number',\n",
      "       'Size Sqft', 'Number of Bedrooms', 'Total Number of Bathrooms',\n",
      "       'Number of Receptions', 'Property Type (Apartment/House)',\n",
      "       'Property Style', 'Garage', 'Car Park Space', 'Year of Build',\n",
      "       'Handover Date', 'EPC Rating', 'Solar Panels', 'Developer', 'Region',\n",
      "       'Freehold/Leasehold', 'Furnished', 'EV Charger', 'Gas',\n",
      "       'Target Handover Date'],\n",
      "      dtype='object')\n",
      "Tenancy Columns: Index(['COB Date', 'Property ID', 'Tenancy Start Date', 'Achieved Rent',\n",
      "       'Rent change', 'Next rent review date', 'Rent review',\n",
      "       'Rent Renewal increase', 'Previous Achieved Rent'],\n",
      "      dtype='object')\n"
     ]
    }
   ],
   "source": [
    "# Display column names for each dataset\n",
    "print(\"Agent Columns:\", agent_df.columns)\n",
    "print(\"Mapping Columns:\", mapping_df.columns)\n",
    "print(\"Stocklist Columns:\", stocklist_df.columns)\n",
    "print(\"Tenancy Columns:\", tenancy_df.columns)\n"
   ]
  },
  {
   "cell_type": "code",
   "execution_count": 335,
   "id": "d361cf7f-5d67-4817-8580-5cd03d055699",
   "metadata": {},
   "outputs": [
    {
     "name": "stdout",
     "output_type": "stream",
     "text": [
      "Agent Columns: ['COB Date', 'Site ID', 'Property ID', 'Gas Cetificate Expiry', 'EPC Ratings', 'EICR Expiry', 'PAT Expiry', 'Occupancy Status', 'Current ERV', 'Achieved Rent PCM', 'Vacant date', 'EPC Expiry Date']\n",
      "Mapping Columns: ['Date', 'Site ID', 'Name', 'Managing Agent', 'Head of Region', 'Status']\n",
      "Stocklist Columns: ['COB', 'Property ID', 'Site ID', 'Status (Completed/Under Construction)', 'Status (Mobilising/Stabilised)', 'Postcode', 'Plot Number', 'Size Sqft', 'Number of Bedrooms', 'Total Number of Bathrooms', 'Number of Receptions', 'Property Type (Apartment/House)', 'Property Style', 'Garage', 'Car Park Space', 'Year of Build', 'Handover Date', 'EPC Rating', 'Solar Panels', 'Developer', 'Region', 'Freehold/Leasehold', 'Furnished', 'EV Charger', 'Gas', 'Target Handover Date']\n",
      "Tenancy Columns: ['COB Date', 'Property ID', 'Tenancy Start Date', 'Achieved Rent', 'Rent change', 'Next rent review date', 'Rent review', 'Rent Renewal increase', 'Previous Achieved Rent']\n"
     ]
    }
   ],
   "source": [
    "print(\"Agent Columns:\", agent_df.columns.tolist())\n",
    "print(\"Mapping Columns:\", mapping_df.columns.tolist())\n",
    "print(\"Stocklist Columns:\", stocklist_df.columns.tolist())\n",
    "print(\"Tenancy Columns:\", tenancy_df.columns.tolist())\n",
    "\n"
   ]
  },
  {
   "cell_type": "code",
   "execution_count": 337,
   "id": "555f2fe3-68d6-44f9-bc54-1de29f70de22",
   "metadata": {},
   "outputs": [
    {
     "name": "stdout",
     "output_type": "stream",
     "text": [
      "✅ Column names standardized.\n"
     ]
    }
   ],
   "source": [
    "# Standardize column names by stripping spaces\n",
    "\n",
    "stocklist_df.columns = stocklist_df.columns.str.strip()\n",
    "agent_df.columns = agent_df.columns.str.strip()\n",
    "mapping_df.columns = mapping_df.columns.str.strip()\n",
    "tenancy_df.columns = tenancy_df.columns.str.strip()\n",
    "\n",
    "# Rename columns for consistency\n",
    "stocklist_df.rename(columns={\"Property ID\": \"Property_ID\", \"Site ID\": \"Site_ID\"}, inplace=True)\n",
    "agent_df.rename(columns={\"Property ID\": \"Property_ID\", \"Site ID\": \"Site_ID\"}, inplace=True)\n",
    "mapping_df.rename(columns={\"Site ID\": \"Site_ID\"}, inplace=True)\n",
    "tenancy_df.rename(columns={\"Property ID\": \"Property_ID\"}, inplace=True)\n",
    "\n",
    "print(\"✅ Column names standardized.\")\n"
   ]
  },
  {
   "cell_type": "code",
   "execution_count": 339,
   "id": "f3af9ecc-406c-4a6e-90d5-04db8780d344",
   "metadata": {},
   "outputs": [
    {
     "name": "stdout",
     "output_type": "stream",
     "text": [
      "Stocklist contains Property_ID: True\n",
      "Agent contains Property_ID: True\n",
      "Tenancy contains Property_ID: True\n",
      "Mapping contains Site_ID: True\n"
     ]
    }
   ],
   "source": [
    "#Ensure Property_ID and Site_ID exist in all dataframes\n",
    "print(\"Stocklist contains Property_ID:\", \"Property_ID\" in stocklist_df.columns)\n",
    "print(\"Agent contains Property_ID:\", \"Property_ID\" in agent_df.columns)\n",
    "print(\"Tenancy contains Property_ID:\", \"Property_ID\" in tenancy_df.columns)\n",
    "print(\"Mapping contains Site_ID:\", \"Site_ID\" in mapping_df.columns)\n"
   ]
  },
  {
   "cell_type": "code",
   "execution_count": 341,
   "id": "a0ef46b8-f598-42d9-8fa1-dcba0584daae",
   "metadata": {},
   "outputs": [
    {
     "name": "stdout",
     "output_type": "stream",
     "text": [
      "✅ Converted key columns to string.\n"
     ]
    }
   ],
   "source": [
    "# Convert to string for consistent merging\n",
    "\n",
    "stocklist_df[\"Property_ID\"] = stocklist_df[\"Property_ID\"].astype(str)\n",
    "agent_df[\"Property_ID\"] = agent_df[\"Property_ID\"].astype(str)\n",
    "tenancy_df[\"Property_ID\"] = tenancy_df[\"Property_ID\"].astype(str)\n",
    "\n",
    "stocklist_df[\"Site_ID\"] = stocklist_df[\"Site_ID\"].astype(str)\n",
    "agent_df[\"Site_ID\"] = agent_df[\"Site_ID\"].astype(str)\n",
    "mapping_df[\"Site_ID\"] = mapping_df[\"Site_ID\"].astype(str)\n",
    "\n",
    "print(\"✅ Converted key columns to string.\")"
   ]
  },
  {
   "cell_type": "code",
   "execution_count": 269,
   "id": "35c72a06-1314-498d-b0bb-97301f696dd4",
   "metadata": {},
   "outputs": [
    {
     "name": "stdout",
     "output_type": "stream",
     "text": [
      "Agent Columns: ['COB Date', 'Site ID', 'Property ID', 'Gas Cetificate Expiry', 'EPC Ratings', 'EICR Expiry', 'PAT Expiry', 'Occupancy Status', 'Current ERV', 'Achieved Rent PCM', 'Vacant date', 'EPC Expiry Date']\n",
      "Mapping Columns: ['Date', 'Site ID', 'Name', 'Managing Agent', 'Head of Region', 'Status']\n",
      "Stocklist Columns: ['COB', 'Property ID', 'Site ID', 'Status (Completed/Under Construction)', 'Status (Mobilising/Stabilised)', 'Postcode', 'Plot Number', 'Size Sqft', 'Number of Bedrooms', 'Total Number of Bathrooms', 'Number of Receptions', 'Property Type (Apartment/House)', 'Property Style', 'Garage', 'Car Park Space', 'Year of Build', 'Handover Date', 'EPC Rating', 'Solar Panels', 'Developer', 'Region', 'Freehold/Leasehold', 'Furnished', 'EV Charger', 'Gas', 'Target Handover Date']\n",
      "Tenancy Columns: ['COB Date', 'Property ID', 'Tenancy Start Date', 'Achieved Rent', 'Rent change', 'Next rent review date', 'Rent review', 'Rent Renewal increase', 'Previous Achieved Rent']\n",
      "✅ Merging completed successfully. Final dataset saved as 'LLoyds_group_merged.xlsx'.\n"
     ]
    }
   ],
   "source": [
    "# step 1 : Merge datasets\n",
    "\n",
    "import pandas as pd\n",
    "\n",
    "# Load datasets\n",
    "agent_df = pd.read_excel(\"LLoyds group project - agent/Agent.xlsx\")\n",
    "tenancy_df = pd.read_excel(\"LLoyds group project - agent/Tenancy.xlsx\")\n",
    "mapping_df = pd.read_excel(\"LLoyds group project - agent/Mapping.xlsx\")\n",
    "stocklist_df = pd.read_excel(\"LLoyds group project - agent/Stocklist.xlsx\")\n",
    "\n",
    "# Standardizing column names (strip spaces)\n",
    "stocklist_df.columns = stocklist_df.columns.str.strip()\n",
    "agent_df.columns = agent_df.columns.str.strip()\n",
    "mapping_df.columns = mapping_df.columns.str.strip()\n",
    "tenancy_df.columns = tenancy_df.columns.str.strip()\n",
    "\n",
    "# Print column names for debugging\n",
    "print(\"Agent Columns:\", list(agent_df.columns))\n",
    "print(\"Mapping Columns:\", list(mapping_df.columns))\n",
    "print(\"Stocklist Columns:\", list(stocklist_df.columns))\n",
    "print(\"Tenancy Columns:\", list(tenancy_df.columns))\n",
    "\n",
    "# Rename columns to ensure consistency\n",
    "stocklist_df.rename(columns={\"Property ID\": \"Property_ID\", \"Site ID\": \"Site_ID\"}, inplace=True)\n",
    "agent_df.rename(columns={\"Property ID\": \"Property_ID\", \"Site ID\": \"Site_ID\"}, inplace=True)\n",
    "mapping_df.rename(columns={\"Site ID\": \"Site_ID\"}, inplace=True)\n",
    "tenancy_df.rename(columns={\"Property ID\": \"Property_ID\"}, inplace=True)\n",
    "\n",
    "# Ensure 'Property_ID' and 'Site_ID' exist\n",
    "assert \"Property_ID\" in stocklist_df.columns, \"Property_ID missing in Stocklist\"\n",
    "assert \"Property_ID\" in agent_df.columns, \"Property_ID missing in Agent\"\n",
    "assert \"Property_ID\" in tenancy_df.columns, \"Property_ID missing in Tenancy\"\n",
    "assert \"Site_ID\" in stocklist_df.columns, \"Site_ID missing in Stocklist\"\n",
    "assert \"Site_ID\" in agent_df.columns, \"Site_ID missing in Agent\"\n",
    "assert \"Site_ID\" in mapping_df.columns, \"Site_ID missing in Mapping\"\n",
    "\n",
    "# Convert IDs to string for consistent merging\n",
    "stocklist_df[\"Property_ID\"] = stocklist_df[\"Property_ID\"].astype(str)\n",
    "agent_df[\"Property_ID\"] = agent_df[\"Property_ID\"].astype(str)\n",
    "tenancy_df[\"Property_ID\"] = tenancy_df[\"Property_ID\"].astype(str)\n",
    "\n",
    "stocklist_df[\"Site_ID\"] = stocklist_df[\"Site_ID\"].astype(str)\n",
    "agent_df[\"Site_ID\"] = agent_df[\"Site_ID\"].astype(str)\n",
    "mapping_df[\"Site_ID\"] = mapping_df[\"Site_ID\"].astype(str)\n",
    "\n",
    "# Merge datasets\n",
    "merged_df = stocklist_df.merge(agent_df, on=[\"Site_ID\", \"Property_ID\"], how=\"left\") \\\n",
    "                        .merge(mapping_df, on=\"Site_ID\", how=\"left\") \\\n",
    "                        .merge(tenancy_df, on=\"Property_ID\", how=\"left\")\n",
    "\n",
    "# Save the final merged dataset\n",
    "merged_df.to_excel(\"LLoyds_group_merged.xlsx\", index=False)\n",
    "\n",
    "print(\"✅ Merging completed successfully. Final dataset saved as 'LLoyds_group_merged.xlsx'.\")\n"
   ]
  },
  {
   "cell_type": "code",
   "execution_count": 63,
   "id": "321e343d-6f83-48f2-93d2-14352f44e2a5",
   "metadata": {},
   "outputs": [
    {
     "name": "stdout",
     "output_type": "stream",
     "text": [
      "         COB Property_ID Site_ID Status (Completed/Under Construction)  \\\n",
      "0 2025-01-31           1       1                             Completed   \n",
      "1 2025-01-31           2       1                             Completed   \n",
      "2 2025-01-31           3       1                             Completed   \n",
      "3 2025-01-31           4       1                             Completed   \n",
      "4 2025-01-31           5       1                             Completed   \n",
      "\n",
      "  Status (Mobilising/Stabilised) Postcode  Plot Number  Size Sqft  \\\n",
      "0                     Mobilising     CV10         54.0     1016.0   \n",
      "1                     Mobilising     CV10         55.0     1016.0   \n",
      "2                     Mobilising     CV10         56.0     1016.0   \n",
      "3                     Mobilising     CV10         57.0     1016.0   \n",
      "4                     Mobilising     CV10         58.0     1016.0   \n",
      "\n",
      "   Number of Bedrooms  Total Number of Bathrooms  ...  Head of Region  \\\n",
      "0                 3.0                        2.0  ...             Sam   \n",
      "1                 3.0                        2.0  ...             Sam   \n",
      "2                 3.0                        2.0  ...             Sam   \n",
      "3                 3.0                        2.0  ...             Sam   \n",
      "4                 3.0                        2.0  ...             Sam   \n",
      "\n",
      "       Status COB Date_y Tenancy Start Date  Achieved Rent  Rent change  \\\n",
      "0  Stabilised 2025-01-31         2024-07-31         1050.0            N   \n",
      "1  Stabilised 2025-01-31         2024-07-20         1050.0            N   \n",
      "2  Stabilised 2025-01-31         2024-05-23         1200.0            N   \n",
      "3  Stabilised 2025-01-31         2024-07-31         1050.0            N   \n",
      "4  Stabilised 2025-01-31         2024-08-17         1050.0            N   \n",
      "\n",
      "  Next rent review date Rent review Rent Renewal increase  \\\n",
      "0            31/07/2027         NaN                   NaN   \n",
      "1            20/07/2027         NaN                   NaN   \n",
      "2            23/05/2027         NaN                   NaN   \n",
      "3            31/07/2027         NaN                   NaN   \n",
      "4            17/08/2027         NaN                   NaN   \n",
      "\n",
      "  Previous Achieved Rent  \n",
      "0                    NaN  \n",
      "1                    NaN  \n",
      "2                    NaN  \n",
      "3                    NaN  \n",
      "4                    NaN  \n",
      "\n",
      "[5 rows x 49 columns]\n"
     ]
    }
   ],
   "source": [
    "print(merged_df.head())\n"
   ]
  },
  {
   "cell_type": "code",
   "execution_count": 247,
   "id": "308aa84e-4a01-4c31-9d6a-ad4b12324e1e",
   "metadata": {},
   "outputs": [
    {
     "name": "stdout",
     "output_type": "stream",
     "text": [
      "<class 'pandas.core.frame.DataFrame'>\n",
      "RangeIndex: 5596 entries, 0 to 5595\n",
      "Data columns (total 49 columns):\n",
      " #   Column                                 Non-Null Count  Dtype         \n",
      "---  ------                                 --------------  -----         \n",
      " 0   COB                                    5596 non-null   datetime64[ns]\n",
      " 1   Property_ID                            5596 non-null   object        \n",
      " 2   Site_ID                                5596 non-null   object        \n",
      " 3   Status (Completed/Under Construction)  5596 non-null   object        \n",
      " 4   Status (Mobilising/Stabilised)         5536 non-null   object        \n",
      " 5   Postcode                               5432 non-null   object        \n",
      " 6   Plot Number                            4194 non-null   float64       \n",
      " 7   Size Sqft                              5324 non-null   float64       \n",
      " 8   Number of Bedrooms                     5585 non-null   float64       \n",
      " 9   Total Number of Bathrooms              4366 non-null   float64       \n",
      " 10  Number of Receptions                   4987 non-null   float64       \n",
      " 11  Property Type (Apartment/House)        5585 non-null   object        \n",
      " 12  Property Style                         5307 non-null   object        \n",
      " 13  Garage                                 3565 non-null   object        \n",
      " 14  Car Park Space                         3929 non-null   float64       \n",
      " 15  Year of Build                          4151 non-null   float64       \n",
      " 16  Handover Date                          3734 non-null   datetime64[ns]\n",
      " 17  EPC Rating                             5596 non-null   object        \n",
      " 18  Solar Panels                           3818 non-null   object        \n",
      " 19  Developer                              5563 non-null   object        \n",
      " 20  Region                                 5596 non-null   object        \n",
      " 21  Freehold/Leasehold                     5316 non-null   object        \n",
      " 22  Furnished                              1937 non-null   object        \n",
      " 23  EV Charger                             2430 non-null   object        \n",
      " 24  Gas                                    5446 non-null   object        \n",
      " 25  Target Handover Date                   2180 non-null   datetime64[ns]\n",
      " 26  COB Date_x                             0 non-null      datetime64[ns]\n",
      " 27  Gas Cetificate Expiry                  0 non-null      object        \n",
      " 28  EPC Ratings                            0 non-null      object        \n",
      " 29  EICR Expiry                            0 non-null      object        \n",
      " 30  PAT Expiry                             0 non-null      object        \n",
      " 31  Occupancy Status                       0 non-null      object        \n",
      " 32  Current ERV                            0 non-null      float64       \n",
      " 33  Achieved Rent PCM                      0 non-null      float64       \n",
      " 34  Vacant date                            0 non-null      datetime64[ns]\n",
      " 35  EPC Expiry Date                        0 non-null      datetime64[ns]\n",
      " 36  Date                                   5596 non-null   datetime64[ns]\n",
      " 37  Name                                   5596 non-null   object        \n",
      " 38  Managing Agent                         5322 non-null   object        \n",
      " 39  Head of Region                         5596 non-null   object        \n",
      " 40  Status                                 5397 non-null   object        \n",
      " 41  COB Date_y                             3254 non-null   datetime64[ns]\n",
      " 42  Tenancy Start Date                     3252 non-null   datetime64[ns]\n",
      " 43  Achieved Rent                          3254 non-null   float64       \n",
      " 44  Rent change                            3105 non-null   object        \n",
      " 45  Next rent review date                  2410 non-null   object        \n",
      " 46  Rent review                            171 non-null    float64       \n",
      " 47  Rent Renewal increase                  1273 non-null   float64       \n",
      " 48  Previous Achieved Rent                 1444 non-null   float64       \n",
      "dtypes: datetime64[ns](9), float64(13), object(27)\n",
      "memory usage: 2.1+ MB\n",
      "None\n"
     ]
    }
   ],
   "source": [
    "print(merged_df.info())"
   ]
  },
  {
   "cell_type": "code",
   "execution_count": 249,
   "id": "7324a724-685a-448b-8de1-793075d3b634",
   "metadata": {},
   "outputs": [
    {
     "name": "stdout",
     "output_type": "stream",
     "text": [
      "COB                                         0\n",
      "Property_ID                                 0\n",
      "Site_ID                                     0\n",
      "Status (Completed/Under Construction)       0\n",
      "Status (Mobilising/Stabilised)             60\n",
      "Postcode                                  164\n",
      "Plot Number                              1402\n",
      "Size Sqft                                 272\n",
      "Number of Bedrooms                         11\n",
      "Total Number of Bathrooms                1230\n",
      "Number of Receptions                      609\n",
      "Property Type (Apartment/House)            11\n",
      "Property Style                            289\n",
      "Garage                                   2031\n",
      "Car Park Space                           1667\n",
      "Year of Build                            1445\n",
      "Handover Date                            1862\n",
      "EPC Rating                                  0\n",
      "Solar Panels                             1778\n",
      "Developer                                  33\n",
      "Region                                      0\n",
      "Freehold/Leasehold                        280\n",
      "Furnished                                3659\n",
      "EV Charger                               3166\n",
      "Gas                                       150\n",
      "Target Handover Date                     3416\n",
      "COB Date_x                               5596\n",
      "Gas Cetificate Expiry                    5596\n",
      "EPC Ratings                              5596\n",
      "EICR Expiry                              5596\n",
      "PAT Expiry                               5596\n",
      "Occupancy Status                         5596\n",
      "Current ERV                              5596\n",
      "Achieved Rent PCM                        5596\n",
      "Vacant date                              5596\n",
      "EPC Expiry Date                          5596\n",
      "Date                                        0\n",
      "Name                                        0\n",
      "Managing Agent                            274\n",
      "Head of Region                              0\n",
      "Status                                    199\n",
      "COB Date_y                               2342\n",
      "Tenancy Start Date                       2344\n",
      "Achieved Rent                            2342\n",
      "Rent change                              2491\n",
      "Next rent review date                    3186\n",
      "Rent review                              5425\n",
      "Rent Renewal increase                    4323\n",
      "Previous Achieved Rent                   4152\n",
      "dtype: int64\n"
     ]
    }
   ],
   "source": [
    "print(merged_df.isnull().sum())"
   ]
  },
  {
   "cell_type": "code",
   "execution_count": 345,
   "id": "a7238b9e-906b-4112-b31c-32dfd99d0836",
   "metadata": {},
   "outputs": [
    {
     "data": {
      "image/png": "[encoded data removed]",
      "text/plain": [
       "<Figure size 1200x600 with 1 Axes>"
      ]
     },
     "metadata": {},
     "output_type": "display_data"
    }
   ],
   "source": [
    "# visualizes missing values\n",
    "\n",
    "import pandas as pd\n",
    "import matplotlib.pyplot as plt\n",
    "\n",
    "# Load the merged dataset\n",
    "merged_df = pd.read_excel(\"LLoyds_group_merged.xlsx\")\n",
    "\n",
    "# Calculate missing values per column\n",
    "missing_values = merged_df.isnull().sum()\n",
    "\n",
    "# Plot the missing values\n",
    "plt.figure(figsize=(12, 6))\n",
    "missing_values.plot(kind='bar', color='red')\n",
    "plt.xlabel(\"Columns\")\n",
    "plt.ylabel(\"Number of Missing Values\")\n",
    "plt.title(\"Missing Values Per Column\")\n",
    "plt.xticks(rotation=90)\n",
    "plt.show()\n"
   ]
  },
  {
   "cell_type": "code",
   "execution_count": 346,
   "id": "79189a73-70b8-4d61-a43a-f95508cba988",
   "metadata": {},
   "outputs": [],
   "source": [
    "# step 2 **Handling missing values**"
   ]
  },
  {
   "cell_type": "code",
   "execution_count": 349,
   "id": "92bd2498-9fc6-4f06-9867-3578a8e8fcf8",
   "metadata": {},
   "outputs": [
    {
     "name": "stdout",
     "output_type": "stream",
     "text": [
      "🔍 Missing Values Before Handling:\n",
      "COB                                         0\n",
      "Property_ID                                 0\n",
      "Site_ID                                     0\n",
      "Status (Completed/Under Construction)       0\n",
      "Status (Mobilising/Stabilised)             60\n",
      "Postcode                                  164\n",
      "Plot Number                              1402\n",
      "Size Sqft                                 272\n",
      "Number of Bedrooms                         11\n",
      "Total Number of Bathrooms                1230\n",
      "Number of Receptions                      609\n",
      "Property Type (Apartment/House)            11\n",
      "Property Style                            289\n",
      "Garage                                   2031\n",
      "Car Park Space                           1667\n",
      "Year of Build                            1445\n",
      "Handover Date                            1862\n",
      "EPC Rating                                  0\n",
      "Solar Panels                             1778\n",
      "Developer                                  33\n",
      "Region                                      0\n",
      "Freehold/Leasehold                        280\n",
      "Furnished                                3659\n",
      "EV Charger                               3166\n",
      "Gas                                       150\n",
      "Target Handover Date                     3416\n",
      "COB Date_x                               5596\n",
      "Gas Cetificate Expiry                    5596\n",
      "EPC Ratings                              5596\n",
      "EICR Expiry                              5596\n",
      "PAT Expiry                               5596\n",
      "Occupancy Status                         5596\n",
      "Current ERV                              5596\n",
      "Achieved Rent PCM                        5596\n",
      "Vacant date                              5596\n",
      "EPC Expiry Date                          5596\n",
      "Date                                        0\n",
      "Name                                        0\n",
      "Managing Agent                            274\n",
      "Head of Region                              0\n",
      "Status                                    199\n",
      "COB Date_y                               2342\n",
      "Tenancy Start Date                       2344\n",
      "Achieved Rent                            2342\n",
      "Rent change                              2491\n",
      "Next rent review date                    3186\n",
      "Rent review                              5425\n",
      "Rent Renewal increase                    4323\n",
      "Previous Achieved Rent                   4152\n",
      "dtype: int64\n"
     ]
    }
   ],
   "source": [
    "# missing values\n",
    "\n",
    "import pandas as pd\n",
    "\n",
    "# Load the merged dataset\n",
    "file_path = \"LLoyds_group_merged.xlsx\"\n",
    "merged_df = pd.read_excel(file_path)\n",
    "\n",
    "# Display missing values count before handling\n",
    "print(\"🔍 Missing Values Before Handling:\")\n",
    "print(merged_df.isnull().sum())\n",
    "\n"
   ]
  },
  {
   "cell_type": "code",
   "execution_count": 351,
   "id": "1707a145-79a9-43de-be0f-fde9d9cf2c8f",
   "metadata": {},
   "outputs": [
    {
     "name": "stdout",
     "output_type": "stream",
     "text": [
      "🚨 Dropped Columns: ['Furnished', 'EV Charger', 'Target Handover Date', 'COB Date_x', 'Gas Cetificate Expiry', 'EPC Ratings', 'EICR Expiry', 'PAT Expiry', 'Occupancy Status', 'Current ERV', 'Achieved Rent PCM', 'Vacant date', 'EPC Expiry Date', 'Next rent review date', 'Rent review', 'Rent Renewal increase', 'Previous Achieved Rent']\n"
     ]
    }
   ],
   "source": [
    "# Drop columns where more than 50% of the data is missing\n",
    "\n",
    "# Calculate the percentage of missing values per column\n",
    "missing_percentage = merged_df.isnull().mean() * 100\n",
    "\n",
    "# Drop columns where more than 50% of the data is missing\n",
    "threshold = 50  # % threshold for dropping columns\n",
    "columns_to_drop = missing_percentage[missing_percentage > threshold].index\n",
    "\n",
    "merged_df.drop(columns=columns_to_drop, inplace=True)\n",
    "\n",
    "print(f\"🚨 Dropped Columns: {list(columns_to_drop)}\")"
   ]
  },
  {
   "cell_type": "code",
   "execution_count": 353,
   "id": "ee33778f-a19c-4cf0-8bac-f08484e2643d",
   "metadata": {},
   "outputs": [
    {
     "name": "stderr",
     "output_type": "stream",
     "text": [
      "/var/folders/vc/z90cv9cs7jzfrfkk8xf6n0kc0000gn/T/ipykernel_24934/611092027.py:11: FutureWarning: DataFrame.fillna with 'method' is deprecated and will raise in a future version. Use obj.ffill() or obj.bfill() instead.\n",
      "  merged_df[date_cols] = merged_df[date_cols].fillna(method='ffill')  # Forward fill for dates\n"
     ]
    },
    {
     "name": "stdout",
     "output_type": "stream",
     "text": [
      "✅ Missing Values After Handling:\n",
      "COB                                      0\n",
      "Property_ID                              0\n",
      "Site_ID                                  0\n",
      "Status (Completed/Under Construction)    0\n",
      "Status (Mobilising/Stabilised)           0\n",
      "Postcode                                 0\n",
      "Plot Number                              0\n",
      "Size Sqft                                0\n",
      "Number of Bedrooms                       0\n",
      "Total Number of Bathrooms                0\n",
      "Number of Receptions                     0\n",
      "Property Type (Apartment/House)          0\n",
      "Property Style                           0\n",
      "Garage                                   0\n",
      "Car Park Space                           0\n",
      "Year of Build                            0\n",
      "Handover Date                            0\n",
      "EPC Rating                               0\n",
      "Solar Panels                             0\n",
      "Developer                                0\n",
      "Region                                   0\n",
      "Freehold/Leasehold                       0\n",
      "Gas                                      0\n",
      "Date                                     0\n",
      "Name                                     0\n",
      "Managing Agent                           0\n",
      "Head of Region                           0\n",
      "Status                                   0\n",
      "COB Date_y                               0\n",
      "Tenancy Start Date                       0\n",
      "Achieved Rent                            0\n",
      "Rent change                              0\n",
      "Data_Quality_Flag                        0\n",
      "dtype: int64\n",
      "✅ Data cleaning completed. Cleaned dataset saved as 'LLoyds_group_cleaned.xlsx'.\n"
     ]
    }
   ],
   "source": [
    "# Fill Missing Values Based on Data Type\n",
    "\n",
    "# Identify numerical and categorical columns\n",
    "numerical_cols = merged_df.select_dtypes(include=['number']).columns\n",
    "categorical_cols = merged_df.select_dtypes(include=['object']).columns\n",
    "date_cols = [col for col in merged_df.columns if 'Date' in col or 'date' in col]\n",
    "\n",
    "# Fill missing values\n",
    "merged_df[numerical_cols] = merged_df[numerical_cols].fillna(merged_df[numerical_cols].median())\n",
    "merged_df[categorical_cols] = merged_df[categorical_cols].fillna(merged_df[categorical_cols].mode().iloc[0])\n",
    "merged_df[date_cols] = merged_df[date_cols].fillna(method='ffill')  # Forward fill for dates\n",
    "\n",
    "# Create Data Quality Flag (1 = Had Missing Data, 0 = No Missing Data)\n",
    "merged_df[\"Data_Quality_Flag\"] = merged_df.isnull().sum(axis=1).apply(lambda x: 1 if x > 0 else 0)\n",
    "\n",
    "# Check missing values after handling\n",
    "print(\"✅ Missing Values After Handling:\")\n",
    "print(merged_df.isnull().sum())\n",
    "\n",
    "# Save the cleaned dataset\n",
    "merged_df.to_excel(\"LLoyds_group_cleaned.xlsx\", index=False)\n",
    "\n",
    "print(\"✅ Data cleaning completed. Cleaned dataset saved as 'LLoyds_group_cleaned.xlsx'.\")\n"
   ]
  },
  {
   "cell_type": "code",
   "execution_count": 355,
   "id": "d4d70ea2-d245-42f0-b52b-fc13f3540360",
   "metadata": {},
   "outputs": [
    {
     "name": "stdout",
     "output_type": "stream",
     "text": [
      "         COB  Property_ID  Site_ID Status (Completed/Under Construction)  \\\n",
      "0 2025-01-31            1        1                             Completed   \n",
      "1 2025-01-31            2        1                             Completed   \n",
      "2 2025-01-31            3        1                             Completed   \n",
      "3 2025-01-31            4        1                             Completed   \n",
      "4 2025-01-31            5        1                             Completed   \n",
      "\n",
      "  Status (Mobilising/Stabilised) Postcode  Plot Number  Size Sqft  \\\n",
      "0                     Mobilising     CV10           54     1016.0   \n",
      "1                     Mobilising     CV10           55     1016.0   \n",
      "2                     Mobilising     CV10           56     1016.0   \n",
      "3                     Mobilising     CV10           57     1016.0   \n",
      "4                     Mobilising     CV10           58     1016.0   \n",
      "\n",
      "   Number of Bedrooms  Total Number of Bathrooms  ...       Date  \\\n",
      "0                   3                          2  ... 2025-01-31   \n",
      "1                   3                          2  ... 2025-01-31   \n",
      "2                   3                          2  ... 2025-01-31   \n",
      "3                   3                          2  ... 2025-01-31   \n",
      "4                   3                          2  ... 2025-01-31   \n",
      "\n",
      "               Name Managing Agent Head of Region      Status  COB Date_y  \\\n",
      "0  Prime Properties        Agent 3            Sam  Stabilised  2025-01-31   \n",
      "1  Prime Properties        Agent 3            Sam  Stabilised  2025-01-31   \n",
      "2  Prime Properties        Agent 3            Sam  Stabilised  2025-01-31   \n",
      "3  Prime Properties        Agent 3            Sam  Stabilised  2025-01-31   \n",
      "4  Prime Properties        Agent 3            Sam  Stabilised  2025-01-31   \n",
      "\n",
      "  Tenancy Start Date Achieved Rent Rent change Data_Quality_Flag  \n",
      "0         2024-07-31        1050.0           N                 0  \n",
      "1         2024-07-20        1050.0           N                 0  \n",
      "2         2024-05-23        1200.0           N                 0  \n",
      "3         2024-07-31        1050.0           N                 0  \n",
      "4         2024-08-17        1050.0           N                 0  \n",
      "\n",
      "[5 rows x 33 columns]\n"
     ]
    }
   ],
   "source": [
    "# last version of cleaned data\n",
    "\n",
    "import pandas as pd\n",
    "\n",
    "# Load the cleaned dataset\n",
    "cleaned_df = pd.read_excel(\"LLoyds_group_cleaned.xlsx\")\n",
    "# Display the first 5 rows\n",
    "print(cleaned_df.head())"
   ]
  },
  {
   "cell_type": "code",
   "execution_count": 278,
   "id": "b4a95daa-6ca4-4071-b41d-1e487ab618f3",
   "metadata": {},
   "outputs": [],
   "source": [
    "# Step 3: Implement These Feature Engineering Steps in Python"
   ]
  },
  {
   "cell_type": "code",
   "execution_count": 357,
   "id": "df315f3d-0791-4fb3-934a-5543e8f68438",
   "metadata": {},
   "outputs": [
    {
     "name": "stdout",
     "output_type": "stream",
     "text": [
      "✅ Dataset Loaded - Shape: (5596, 33)\n",
      "✅ Columns: Index(['COB', 'Property_ID', 'Site_ID',\n",
      "       'Status (Completed/Under Construction)',\n",
      "       'Status (Mobilising/Stabilised)', 'Postcode', 'Plot Number',\n",
      "       'Size Sqft', 'Number of Bedrooms', 'Total Number of Bathrooms',\n",
      "       'Number of Receptions', 'Property Type (Apartment/House)',\n",
      "       'Property Style', 'Garage', 'Car Park Space', 'Year of Build',\n",
      "       'Handover Date', 'EPC Rating', 'Solar Panels', 'Developer', 'Region',\n",
      "       'Freehold/Leasehold', 'Gas', 'Date', 'Name', 'Managing Agent',\n",
      "       'Head of Region', 'Status', 'COB Date_y', 'Tenancy Start Date',\n",
      "       'Achieved Rent', 'Rent change', 'Data_Quality_Flag'],\n",
      "      dtype='object')\n"
     ]
    }
   ],
   "source": [
    "# Load data\n",
    "\n",
    "import pandas as pd\n",
    "\n",
    "# Load the cleaned dataset\n",
    "file_path = \"LLoyds_group_cleaned.xlsx\"\n",
    "merged_df = pd.read_excel(file_path)\n",
    "\n",
    "# Display initial structure\n",
    "print(\"✅ Dataset Loaded - Shape:\", merged_df.shape)\n",
    "print(\"✅ Columns:\", merged_df.columns)\n"
   ]
  },
  {
   "cell_type": "code",
   "execution_count": 282,
   "id": "6d1ae2da-2d46-4c8a-9312-8f3210c79d36",
   "metadata": {},
   "outputs": [
    {
     "name": "stdout",
     "output_type": "stream",
     "text": [
      "✅ Occupancy & Vacancy Rates Recalculated\n"
     ]
    }
   ],
   "source": [
    "# Define occupied properties (1 if tenancy start date exists, else 0)\n",
    "merged_df[\"Is_Occupied\"] = merged_df[\"Tenancy Start Date\"].notnull().astype(int)\n",
    "\n",
    "# Calculate Occupancy Rate and Vacancy Rate per Region\n",
    "occupancy_rate = merged_df.groupby(\"Region\")[\"Is_Occupied\"].mean() * 100\n",
    "merged_df[\"Occupancy_Rate\"] = merged_df[\"Region\"].map(occupancy_rate)\n",
    "\n",
    "# Vacancy rate is the inverse\n",
    "merged_df[\"Vacancy_Rate\"] = 100 - merged_df[\"Occupancy_Rate\"]\n",
    "\n",
    "print(\"✅ Occupancy & Vacancy Rates Recalculated\")\n"
   ]
  },
  {
   "cell_type": "code",
   "execution_count": 283,
   "id": "8eea93e6-5fa8-433f-9996-1efbc1bb42dd",
   "metadata": {},
   "outputs": [
    {
     "name": "stdout",
     "output_type": "stream",
     "text": [
      "🔍 Rechecking missing values:\n",
      " Series([], dtype: int64)\n"
     ]
    }
   ],
   "source": [
    "# Re-check missing values after recalculations\n",
    "\n",
    "missing_values = merged_df.isnull().sum()\n",
    "print(\"🔍 Rechecking missing values:\\n\", missing_values[missing_values > 0])\n",
    "\n"
   ]
  },
  {
   "cell_type": "code",
   "execution_count": 287,
   "id": "86e15e7b-dea0-4306-a20e-d17bd45e7706",
   "metadata": {},
   "outputs": [
    {
     "name": "stdout",
     "output_type": "stream",
     "text": [
      "✅ Final missing values handled.\n"
     ]
    }
   ],
   "source": [
    "#📌 For numerical columns → Fill with median\n",
    "#📌 For categorical columns → Fill with mode (most common value)\n",
    "\n",
    "# Fill missing numerical values with median\n",
    "num_cols = merged_df.select_dtypes(include=['number']).columns\n",
    "merged_df[num_cols] = merged_df[num_cols].fillna(merged_df[num_cols].median())\n",
    "\n",
    "# Fill missing categorical values with mode\n",
    "cat_cols = merged_df.select_dtypes(include=['object']).columns\n",
    "merged_df[cat_cols] = merged_df[cat_cols].apply(lambda x: x.fillna(x.mode()[0]))\n",
    "\n",
    "print(\"✅ Final missing values handled.\")\n"
   ]
  },
  {
   "cell_type": "code",
   "execution_count": 291,
   "id": "9f3b79e1-b977-46b8-b0ea-cb9170391b96",
   "metadata": {},
   "outputs": [
    {
     "ename": "KeyError",
     "evalue": "'Occupancy Status'",
     "output_type": "error",
     "traceback": [
      "\u001b[0;31m---------------------------------------------------------------------------\u001b[0m",
      "\u001b[0;31mKeyError\u001b[0m                                  Traceback (most recent call last)",
      "File \u001b[0;32m/opt/anaconda3/lib/python3.12/site-packages/pandas/core/indexes/base.py:3805\u001b[0m, in \u001b[0;36mIndex.get_loc\u001b[0;34m(self, key)\u001b[0m\n\u001b[1;32m   3804\u001b[0m \u001b[38;5;28;01mtry\u001b[39;00m:\n\u001b[0;32m-> 3805\u001b[0m     \u001b[38;5;28;01mreturn\u001b[39;00m \u001b[38;5;28mself\u001b[39m\u001b[38;5;241m.\u001b[39m_engine\u001b[38;5;241m.\u001b[39mget_loc(casted_key)\n\u001b[1;32m   3806\u001b[0m \u001b[38;5;28;01mexcept\u001b[39;00m \u001b[38;5;167;01mKeyError\u001b[39;00m \u001b[38;5;28;01mas\u001b[39;00m err:\n",
      "File \u001b[0;32mindex.pyx:167\u001b[0m, in \u001b[0;36mpandas._libs.index.IndexEngine.get_loc\u001b[0;34m()\u001b[0m\n",
      "File \u001b[0;32mindex.pyx:196\u001b[0m, in \u001b[0;36mpandas._libs.index.IndexEngine.get_loc\u001b[0;34m()\u001b[0m\n",
      "File \u001b[0;32mpandas/_libs/hashtable_class_helper.pxi:7081\u001b[0m, in \u001b[0;36mpandas._libs.hashtable.PyObjectHashTable.get_item\u001b[0;34m()\u001b[0m\n",
      "File \u001b[0;32mpandas/_libs/hashtable_class_helper.pxi:7089\u001b[0m, in \u001b[0;36mpandas._libs.hashtable.PyObjectHashTable.get_item\u001b[0;34m()\u001b[0m\n",
      "\u001b[0;31mKeyError\u001b[0m: 'Occupancy Status'",
      "\nThe above exception was the direct cause of the following exception:\n",
      "\u001b[0;31mKeyError\u001b[0m                                  Traceback (most recent call last)",
      "Cell \u001b[0;32mIn[291], line 8\u001b[0m\n\u001b[1;32m      5\u001b[0m df \u001b[38;5;241m=\u001b[39m pd\u001b[38;5;241m.\u001b[39mread_excel(file_path)\n\u001b[1;32m      7\u001b[0m \u001b[38;5;66;03m# Standardize Occupancy Status column\u001b[39;00m\n\u001b[0;32m----> 8\u001b[0m df[\u001b[38;5;124m\"\u001b[39m\u001b[38;5;124mOccupancy Status\u001b[39m\u001b[38;5;124m\"\u001b[39m] \u001b[38;5;241m=\u001b[39m df[\u001b[38;5;124m\"\u001b[39m\u001b[38;5;124mOccupancy Status\u001b[39m\u001b[38;5;124m\"\u001b[39m]\u001b[38;5;241m.\u001b[39mstr\u001b[38;5;241m.\u001b[39mstrip()\n\u001b[1;32m     10\u001b[0m \u001b[38;5;66;03m# Define occupied statuses\u001b[39;00m\n\u001b[1;32m     11\u001b[0m occupied_statuses \u001b[38;5;241m=\u001b[39m [\u001b[38;5;124m\"\u001b[39m\u001b[38;5;124mOccupied\u001b[39m\u001b[38;5;124m\"\u001b[39m, \u001b[38;5;124m\"\u001b[39m\u001b[38;5;124mLet\u001b[39m\u001b[38;5;124m\"\u001b[39m]\n",
      "File \u001b[0;32m/opt/anaconda3/lib/python3.12/site-packages/pandas/core/frame.py:4102\u001b[0m, in \u001b[0;36mDataFrame.__getitem__\u001b[0;34m(self, key)\u001b[0m\n\u001b[1;32m   4100\u001b[0m \u001b[38;5;28;01mif\u001b[39;00m \u001b[38;5;28mself\u001b[39m\u001b[38;5;241m.\u001b[39mcolumns\u001b[38;5;241m.\u001b[39mnlevels \u001b[38;5;241m>\u001b[39m \u001b[38;5;241m1\u001b[39m:\n\u001b[1;32m   4101\u001b[0m     \u001b[38;5;28;01mreturn\u001b[39;00m \u001b[38;5;28mself\u001b[39m\u001b[38;5;241m.\u001b[39m_getitem_multilevel(key)\n\u001b[0;32m-> 4102\u001b[0m indexer \u001b[38;5;241m=\u001b[39m \u001b[38;5;28mself\u001b[39m\u001b[38;5;241m.\u001b[39mcolumns\u001b[38;5;241m.\u001b[39mget_loc(key)\n\u001b[1;32m   4103\u001b[0m \u001b[38;5;28;01mif\u001b[39;00m is_integer(indexer):\n\u001b[1;32m   4104\u001b[0m     indexer \u001b[38;5;241m=\u001b[39m [indexer]\n",
      "File \u001b[0;32m/opt/anaconda3/lib/python3.12/site-packages/pandas/core/indexes/base.py:3812\u001b[0m, in \u001b[0;36mIndex.get_loc\u001b[0;34m(self, key)\u001b[0m\n\u001b[1;32m   3807\u001b[0m     \u001b[38;5;28;01mif\u001b[39;00m \u001b[38;5;28misinstance\u001b[39m(casted_key, \u001b[38;5;28mslice\u001b[39m) \u001b[38;5;129;01mor\u001b[39;00m (\n\u001b[1;32m   3808\u001b[0m         \u001b[38;5;28misinstance\u001b[39m(casted_key, abc\u001b[38;5;241m.\u001b[39mIterable)\n\u001b[1;32m   3809\u001b[0m         \u001b[38;5;129;01mand\u001b[39;00m \u001b[38;5;28many\u001b[39m(\u001b[38;5;28misinstance\u001b[39m(x, \u001b[38;5;28mslice\u001b[39m) \u001b[38;5;28;01mfor\u001b[39;00m x \u001b[38;5;129;01min\u001b[39;00m casted_key)\n\u001b[1;32m   3810\u001b[0m     ):\n\u001b[1;32m   3811\u001b[0m         \u001b[38;5;28;01mraise\u001b[39;00m InvalidIndexError(key)\n\u001b[0;32m-> 3812\u001b[0m     \u001b[38;5;28;01mraise\u001b[39;00m \u001b[38;5;167;01mKeyError\u001b[39;00m(key) \u001b[38;5;28;01mfrom\u001b[39;00m \u001b[38;5;21;01merr\u001b[39;00m\n\u001b[1;32m   3813\u001b[0m \u001b[38;5;28;01mexcept\u001b[39;00m \u001b[38;5;167;01mTypeError\u001b[39;00m:\n\u001b[1;32m   3814\u001b[0m     \u001b[38;5;66;03m# If we have a listlike key, _check_indexing_error will raise\u001b[39;00m\n\u001b[1;32m   3815\u001b[0m     \u001b[38;5;66;03m#  InvalidIndexError. Otherwise we fall through and re-raise\u001b[39;00m\n\u001b[1;32m   3816\u001b[0m     \u001b[38;5;66;03m#  the TypeError.\u001b[39;00m\n\u001b[1;32m   3817\u001b[0m     \u001b[38;5;28mself\u001b[39m\u001b[38;5;241m.\u001b[39m_check_indexing_error(key)\n",
      "\u001b[0;31mKeyError\u001b[0m: 'Occupancy Status'"
     ]
    }
   ],
   "source": [
    "import pandas as pd\n",
    "\n",
    "# Load dataset\n",
    "file_path = \"LLoyds_group_final_corrected.xlsx\"\n",
    "df = pd.read_excel(file_path)\n",
    "\n",
    "# Standardize Occupancy Status column\n",
    "df[\"Occupancy Status\"] = df[\"Occupancy Status\"].str.strip()\n",
    "\n",
    "# Define occupied statuses\n",
    "occupied_statuses = [\"Occupied\", \"Let\"]\n",
    "\n",
    "# Define vacant statuses\n",
    "vacant_statuses = [\"Vacant\", \"Notice\", \"Available\", \"Under Offer\", \"Pipeline\", \"Show Home\"]\n",
    "\n",
    "# Create a new column for occupancy flag (1 = occupied, 0 = vacant)\n",
    "df[\"Is_Occupied\"] = df[\"Occupancy Status\"].apply(lambda x: 1 if x in occupied_statuses else 0)\n",
    "\n",
    "# Calculate the correct occupancy and vacancy rates\n",
    "occupancy_rate = df[\"Is_Occupied\"].mean() * 100  # Percentage of occupied properties\n",
    "vacancy_rate = 100 - occupancy_rate  # Remaining percentage is vacant\n",
    "\n",
    "# Print results\n",
    "print(f\"✅ Corrected Occupancy Rate: {occupancy_rate:.2f}%\")\n",
    "print(f\"✅ Corrected Vacancy Rate: {vacancy_rate:.2f}%\")\n",
    "\n",
    "# Save the corrected dataset\n",
    "df.to_excel(\"LLoyds_group_final_corrected_fixed.xlsx\", index=False)\n",
    "print(\"✅ Final dataset saved with corrected occupancy status.\")\n"
   ]
  },
  {
   "cell_type": "code",
   "execution_count": 137,
   "id": "540662c9-557b-4f1e-9014-22665d368995",
   "metadata": {},
   "outputs": [
    {
     "name": "stdout",
     "output_type": "stream",
     "text": [
      "🔍 Rent Summary by Region:\n",
      "                         count         mean     min     max\n",
      "Region                                                    \n",
      "East Midlands             456  1341.743421     0.0  1800.0\n",
      "East of England          1231  1344.683599     0.0  2500.0\n",
      "North East                208  1214.495192   875.0  1400.0\n",
      "North West               1158  1206.173394     0.0  3900.0\n",
      "Scotland                   87  1387.701149  1125.0  1800.0\n",
      "South East                519  1365.437380     0.0  1895.0\n",
      "South West               1029  1296.221730     0.0  6500.0\n",
      "West Midlands             625  1236.232000     0.0  2050.0\n",
      "Yorkshire & the Humber    283  1157.812721   850.0  1500.0\n",
      "⚠️ Unusual Rents:\n",
      "             COB  Property_ID  Site_ID Status (Completed/Under Construction)  \\\n",
      "1067 2025-01-31         1068       33                             Completed   \n",
      "1096 2025-01-31         1097       35                             Completed   \n",
      "1242 2025-01-31         1243       37                             Completed   \n",
      "1283 2025-01-31         1284       37                             Completed   \n",
      "1297 2025-01-31         1298       37                             Completed   \n",
      "1735 2025-01-31         1736       43                             Completed   \n",
      "1795 2025-01-31         1796       44                             Completed   \n",
      "5026 2025-01-31       780019       78                             Completed   \n",
      "5324 2025-01-31       800001       80                             Completed   \n",
      "5433 2025-01-31       820001       82                             Completed   \n",
      "\n",
      "     Status (Mobilising/Stabilised) Postcode  Plot Number    Size Sqft  \\\n",
      "1067                     Stabilised      GL2          159  1685.000000   \n",
      "1096                     Stabilised     CB24          159  1299.000000   \n",
      "1242                     Mobilising     TN23           37   557.575200   \n",
      "1283                     Mobilising     TN23           32   806.754310   \n",
      "1297                     Mobilising     TN23           52   815.473060   \n",
      "1735                     Mobilising     BS37           35   471.000000   \n",
      "1795                     Mobilising     BS37          558   830.004329   \n",
      "5026                     Mobilising      CW1          476  1085.000000   \n",
      "5324                     Mobilising      B79           69   957.000000   \n",
      "5433                     Mobilising      NG4          523  1014.000000   \n",
      "\n",
      "      Number of Bedrooms  Total Number of Bathrooms  ...  Head of Region  \\\n",
      "1067                   4                          2  ...           Chris   \n",
      "1096                   4                          3  ...           Chris   \n",
      "1242                   1                          1  ...           Chris   \n",
      "1283                   2                          2  ...           Chris   \n",
      "1297                   2                          2  ...           Chris   \n",
      "1735                   1                          1  ...           Chris   \n",
      "1795                   3                          2  ...           Chris   \n",
      "5026                   3                          2  ...           Chris   \n",
      "5324                   3                          2  ...        Jonathan   \n",
      "5433                   3                          2  ...        Jonathan   \n",
      "\n",
      "          Status COB Date_y Tenancy Start Date  Achieved Rent  Rent change  \\\n",
      "1067  Stabilised 2025-01-31         2023-10-03         6500.0            N   \n",
      "1096  Stabilised 2025-01-31         2025-01-30            0.0            N   \n",
      "1242  Stabilised 2025-01-31         2023-06-08            0.0            N   \n",
      "1283  Stabilised 2025-01-31         2025-01-08            0.0            N   \n",
      "1297  Stabilised 2025-01-31         2025-01-29            0.0            N   \n",
      "1735  Stabilised 2025-01-31         2025-01-07            0.0            N   \n",
      "1795  Stabilised 2025-01-31         2023-04-28            0.0            N   \n",
      "5026  Mobilising 2025-01-31         2025-01-06            0.0            N   \n",
      "5324  Mobilising 2025-01-31         2024-12-18            0.0            N   \n",
      "5433  Mobilising 2025-01-31         2024-12-18            0.0            N   \n",
      "\n",
      "     Data_Quality_Flag Is_Occupied Occupancy_Rate Vacancy_Rate  \n",
      "1067                 0           1          100.0          0.0  \n",
      "1096                 0           1          100.0          0.0  \n",
      "1242                 0           1          100.0          0.0  \n",
      "1283                 0           1          100.0          0.0  \n",
      "1297                 0           1          100.0          0.0  \n",
      "1735                 0           1          100.0          0.0  \n",
      "1795                 0           1          100.0          0.0  \n",
      "5026                 0           1          100.0          0.0  \n",
      "5324                 0           1          100.0          0.0  \n",
      "5433                 0           1          100.0          0.0  \n",
      "\n",
      "[10 rows x 36 columns]\n"
     ]
    }
   ],
   "source": [
    "# Validate & Adjust Rent Calculations\n",
    "\n",
    "# Check rent distribution across regions\n",
    "rent_summary = merged_df.groupby(\"Region\")[\"Achieved Rent\"].agg([\"count\", \"mean\", \"min\", \"max\"])\n",
    "print(\"🔍 Rent Summary by Region:\\n\", rent_summary)\n",
    "\n",
    "# Identify unusually low/high rent values\n",
    "print(\"⚠️ Unusual Rents:\\n\", merged_df[(merged_df[\"Achieved Rent\"] < 500) | (merged_df[\"Achieved Rent\"] > 5000)])\n"
   ]
  },
  {
   "cell_type": "code",
   "execution_count": 139,
   "id": "1de8576b-54e7-404a-90fe-87b3b1a8de0a",
   "metadata": {},
   "outputs": [
    {
     "name": "stdout",
     "output_type": "stream",
     "text": [
      "✅ Rent values verified and corrected.\n"
     ]
    },
    {
     "name": "stderr",
     "output_type": "stream",
     "text": [
      "/var/folders/vc/z90cv9cs7jzfrfkk8xf6n0kc0000gn/T/ipykernel_24934/2498166756.py:2: FutureWarning: A value is trying to be set on a copy of a DataFrame or Series through chained assignment using an inplace method.\n",
      "The behavior will change in pandas 3.0. This inplace method will never work because the intermediate object on which we are setting values always behaves as a copy.\n",
      "\n",
      "For example, when doing 'df[col].method(value, inplace=True)', try using 'df.method({col: value}, inplace=True)' or df[col] = df[col].method(value) instead, to perform the operation inplace on the original object.\n",
      "\n",
      "\n",
      "  merged_df[\"Achieved Rent\"].fillna(merged_df.groupby(\"Region\")[\"Achieved Rent\"].transform(\"median\"), inplace=True)\n"
     ]
    }
   ],
   "source": [
    "# Fill missing rent values with median of respective region\n",
    "merged_df[\"Achieved Rent\"].fillna(merged_df.groupby(\"Region\")[\"Achieved Rent\"].transform(\"median\"), inplace=True)\n",
    "\n",
    "print(\"✅ Rent values verified and corrected.\")\n",
    "\n"
   ]
  },
  {
   "cell_type": "code",
   "execution_count": 293,
   "id": "da8c70e9-d2bd-4e9b-884c-77b8ff6690ca",
   "metadata": {},
   "outputs": [
    {
     "name": "stdout",
     "output_type": "stream",
     "text": [
      "✅ Property categories assigned.\n"
     ]
    }
   ],
   "source": [
    "# Categorize Properties by Size\n",
    "\n",
    "def categorize_size(size):\n",
    "    if size < 800:\n",
    "        return \"Small\"\n",
    "    elif 800 <= size < 1500:\n",
    "        return \"Medium\"\n",
    "    else:\n",
    "        return \"Large\"\n",
    "\n",
    "merged_df[\"Property_Category\"] = merged_df[\"Size Sqft\"].apply(categorize_size)\n",
    "\n",
    "print(\"✅ Property categories assigned.\")\n"
   ]
  },
  {
   "cell_type": "code",
   "execution_count": 295,
   "id": "95dd5dee-71a2-4d01-b985-199edebb8805",
   "metadata": {},
   "outputs": [
    {
     "name": "stdout",
     "output_type": "stream",
     "text": [
      "✅ Final dataset saved at: LLoyds group project - agent/LLoyds_group_final_corrected.xlsx\n"
     ]
    }
   ],
   "source": [
    "# Save Final Dataset for Power BI\n",
    "import os\n",
    "import pandas as pd\n",
    "\n",
    "# Define the correct path where you want to save the file\n",
    "output_folder = \"LLoyds group project - agent\"\n",
    "output_filename = \"LLoyds_group_final_corrected.xlsx\"\n",
    "output_path = os.path.join(output_folder, output_filename)\n",
    "\n",
    "# Save the final dataset\n",
    "merged_df.to_excel(output_path, index=False)\n",
    "\n",
    "print(f\"✅ Final dataset saved at: {output_path}\")"
   ]
  },
  {
   "cell_type": "code",
   "execution_count": null,
   "id": "48de610b-5a94-43ff-b18e-0dd446e55b0f",
   "metadata": {},
   "outputs": [],
   "source": [
    "\n",
    "\n",
    "\n",
    "\n",
    "\n",
    "\n",
    "# analys Data\n",
    "\n",
    "\n"
   ]
  },
  {
   "cell_type": "code",
   "execution_count": null,
   "id": "ff111c38-1de3-48b6-80e6-64c189d67741",
   "metadata": {},
   "outputs": [],
   "source": [
    "# 1. load the last version of merged and cleaned data"
   ]
  },
  {
   "cell_type": "code",
   "execution_count": 297,
   "id": "4b1e7fd6-76d1-4ccb-9f7c-2b0e008938a6",
   "metadata": {},
   "outputs": [
    {
     "name": "stdout",
     "output_type": "stream",
     "text": [
      "✅ Dataset Loaded - Shape: (5596, 37)\n",
      "✅ Columns: Index(['COB', 'Property_ID', 'Site_ID',\n",
      "       'Status (Completed/Under Construction)',\n",
      "       'Status (Mobilising/Stabilised)', 'Postcode', 'Plot Number',\n",
      "       'Size Sqft', 'Number of Bedrooms', 'Total Number of Bathrooms',\n",
      "       'Number of Receptions', 'Property Type (Apartment/House)',\n",
      "       'Property Style', 'Garage', 'Car Park Space', 'Year of Build',\n",
      "       'Handover Date', 'EPC Rating', 'Solar Panels', 'Developer', 'Region',\n",
      "       'Freehold/Leasehold', 'Gas', 'Date', 'Name', 'Managing Agent',\n",
      "       'Head of Region', 'Status', 'COB Date_y', 'Tenancy Start Date',\n",
      "       'Achieved Rent', 'Rent change', 'Data_Quality_Flag', 'Is_Occupied',\n",
      "       'Occupancy_Rate', 'Vacancy_Rate', 'Property_Category'],\n",
      "      dtype='object')\n"
     ]
    }
   ],
   "source": [
    "import pandas as pd\n",
    "\n",
    "# Load the final cleaned dataset\n",
    "file_path = \"LLoyds_group_final_corrected.xlsx\"\n",
    "df = pd.read_excel(file_path)\n",
    "\n",
    "# Check dataset structure\n",
    "print(f\"✅ Dataset Loaded - Shape: {df.shape}\")\n",
    "print(f\"✅ Columns: {df.columns}\")\n"
   ]
  },
  {
   "cell_type": "code",
   "execution_count": null,
   "id": "92f86826-e3ab-46b1-929f-9cc0708d7094",
   "metadata": {},
   "outputs": [],
   "source": [
    "# 2. Understanding the Distribution of Properties by Region"
   ]
  },
  {
   "cell_type": "code",
   "execution_count": 299,
   "id": "11689891-fc6a-421f-ae9d-b26d36df09fe",
   "metadata": {},
   "outputs": [
    {
     "name": "stderr",
     "output_type": "stream",
     "text": [
      "/var/folders/vc/z90cv9cs7jzfrfkk8xf6n0kc0000gn/T/ipykernel_24934/2532907928.py:9: FutureWarning: \n",
      "\n",
      "Passing `palette` without assigning `hue` is deprecated and will be removed in v0.14.0. Assign the `x` variable to `hue` and set `legend=False` for the same effect.\n",
      "\n",
      "  sns.barplot(x=region_counts.index, y=region_counts.values, palette=\"viridis\")\n"
     ]
    },
    {
     "data": {
      "image/png": "[encoded data removed]",
      "text/plain": [
       "<Figure size 1200x600 with 1 Axes>"
      ]
     },
     "metadata": {},
     "output_type": "display_data"
    }
   ],
   "source": [
    "import matplotlib.pyplot as plt\n",
    "import seaborn as sns\n",
    "\n",
    "# Count properties by region\n",
    "region_counts = df[\"Region\"].value_counts()\n",
    "\n",
    "# Plot distribution of properties by region\n",
    "plt.figure(figsize=(12, 6))\n",
    "sns.barplot(x=region_counts.index, y=region_counts.values, palette=\"viridis\")\n",
    "plt.xticks(rotation=45)\n",
    "plt.xlabel(\"Region\")\n",
    "plt.ylabel(\"Number of Properties\")\n",
    "plt.title(\"Property Distribution by Region\")\n",
    "plt.show()\n"
   ]
  },
  {
   "cell_type": "code",
   "execution_count": null,
   "id": "4a213438-f137-435d-8ada-f9802f12c27a",
   "metadata": {},
   "outputs": [],
   "source": [
    "# 3. Property Type Distribution"
   ]
  },
  {
   "cell_type": "code",
   "execution_count": 301,
   "id": "4306e0cf-806b-474d-9425-266b2c3f3b3b",
   "metadata": {},
   "outputs": [
    {
     "data": {
      "image/png": "[encoded data removed]",
      "text/plain": [
       "<Figure size 1200x800 with 1 Axes>"
      ]
     },
     "metadata": {},
     "output_type": "display_data"
    }
   ],
   "source": [
    "import matplotlib.pyplot as plt\n",
    "\n",
    "# Aggregate small categories into \"Other\"\n",
    "threshold = 3  # Minimum % to display separately\n",
    "property_counts = df[\"Property Type (Apartment/House)\"].value_counts(normalize=True) * 100\n",
    "property_counts_filtered = property_counts[property_counts >= threshold]\n",
    "property_counts_filtered[\"Other\"] = property_counts[property_counts < threshold].sum()\n",
    "\n",
    "# Define explode for small categories\n",
    "explode = [0.1 if pct < 5 else 0 for pct in property_counts_filtered]\n",
    "\n",
    "# Create figure\n",
    "plt.figure(figsize=(12, 8))\n",
    "\n",
    "# Pie chart with improved settings\n",
    "plt.pie(property_counts_filtered, labels=property_counts_filtered.index, \n",
    "        autopct='%1.1f%%', startangle=140, explode=explode, \n",
    "        colors=plt.cm.Paired.colors, wedgeprops={'edgecolor': 'black'}, \n",
    "        pctdistance=0.85, labeldistance=1.1, textprops={'fontsize': 12})\n",
    "\n",
    "# Add title\n",
    "plt.title(\"Property Type Distribution\", fontsize=16)\n",
    "\n",
    "# Show the plot\n",
    "plt.show()\n",
    "\n",
    "\n",
    "\n"
   ]
  },
  {
   "cell_type": "code",
   "execution_count": 303,
   "id": "995f0b42-5fe3-4c92-b0c9-dba5b59237a1",
   "metadata": {},
   "outputs": [
    {
     "name": "stderr",
     "output_type": "stream",
     "text": [
      "/var/folders/vc/z90cv9cs7jzfrfkk8xf6n0kc0000gn/T/ipykernel_24934/1878376381.py:5: FutureWarning: \n",
      "\n",
      "Passing `palette` without assigning `hue` is deprecated and will be removed in v0.14.0. Assign the `y` variable to `hue` and set `legend=False` for the same effect.\n",
      "\n",
      "  sns.countplot(data=df, y=\"Region\", order=df[\"Region\"].value_counts().index, palette=\"coolwarm\")\n"
     ]
    },
    {
     "data": {
      "image/png": "[encoded data removed]",
      "text/plain": [
       "<Figure size 1200x600 with 1 Axes>"
      ]
     },
     "metadata": {},
     "output_type": "display_data"
    }
   ],
   "source": [
    "import seaborn as sns\n",
    "\n",
    "# Count properties by region\n",
    "plt.figure(figsize=(12,6))\n",
    "sns.countplot(data=df, y=\"Region\", order=df[\"Region\"].value_counts().index, palette=\"coolwarm\")\n",
    "\n",
    "# Labels\n",
    "plt.xlabel(\"Number of Properties\")\n",
    "plt.ylabel(\"Region\")\n",
    "plt.title(\"Property Distribution by Region\")\n",
    "\n",
    "# Show\n",
    "plt.show()\n"
   ]
  },
  {
   "cell_type": "code",
   "execution_count": null,
   "id": "38aa6d69-8987-4c6d-a118-7ccb2c86a64f",
   "metadata": {},
   "outputs": [],
   "source": [
    "#  Key Lettings Metrics\n",
    "\n",
    "\n",
    "\n"
   ]
  },
  {
   "cell_type": "code",
   "execution_count": 305,
   "id": "a817d930-ac0d-4f42-9a07-fd051d66b915",
   "metadata": {},
   "outputs": [
    {
     "name": "stdout",
     "output_type": "stream",
     "text": [
      "✅ File Loaded Successfully! Dataset Shape: (5596, 37)\n"
     ]
    }
   ],
   "source": [
    "import pandas as pd\n",
    "\n",
    "# Load the final cleaned dataset\n",
    "file_path = \"LLoyds_group_final_corrected.xlsx\"\n",
    "df = pd.read_excel(file_path)\n",
    "\n",
    "# Display initial summary\n",
    "print(\"✅ File Loaded Successfully! Dataset Shape:\", df.shape)\n"
   ]
  },
  {
   "cell_type": "code",
   "execution_count": 307,
   "id": "8afd35db-809c-44ac-9cd1-a33f95e739b4",
   "metadata": {},
   "outputs": [
    {
     "name": "stdout",
     "output_type": "stream",
     "text": [
      "✅ Missing rent values corrected. Remaining NaNs: 0\n"
     ]
    },
    {
     "name": "stderr",
     "output_type": "stream",
     "text": [
      "/var/folders/vc/z90cv9cs7jzfrfkk8xf6n0kc0000gn/T/ipykernel_24934/2007516032.py:5: FutureWarning: A value is trying to be set on a copy of a DataFrame or Series through chained assignment using an inplace method.\n",
      "The behavior will change in pandas 3.0. This inplace method will never work because the intermediate object on which we are setting values always behaves as a copy.\n",
      "\n",
      "For example, when doing 'df[col].method(value, inplace=True)', try using 'df.method({col: value}, inplace=True)' or df[col] = df[col].method(value) instead, to perform the operation inplace on the original object.\n",
      "\n",
      "\n",
      "  df[\"Achieved Rent\"].fillna(df[\"Achieved Rent\"].median(), inplace=True)\n"
     ]
    }
   ],
   "source": [
    "# Fill missing rent values using the median rent per region\n",
    "df[\"Achieved Rent\"] = df.groupby(\"Region\")[\"Achieved Rent\"].transform(lambda x: x.fillna(x.median()))\n",
    "\n",
    "# If any rent values are still missing (e.g., if Region was missing), use overall median\n",
    "df[\"Achieved Rent\"].fillna(df[\"Achieved Rent\"].median(), inplace=True)\n",
    "\n",
    "# Confirm all missing rents are fixed\n",
    "print(\"✅ Missing rent values corrected. Remaining NaNs:\", df[\"Achieved Rent\"].isna().sum())\n"
   ]
  },
  {
   "cell_type": "code",
   "execution_count": null,
   "id": "81f9ef40-ef88-4288-81f3-e1087e5d8240",
   "metadata": {},
   "outputs": [],
   "source": [
    "# code below :\n",
    "#Analysis of These Outliers:\n",
    "\n",
    "#High Rents\n",
    "#Property 1068 has a rent of £6,500, which is very high.\n",
    "#This might be a luxury property, or there could be a data entry mistake.\n",
    "#Needs to be verified with business logic.\n",
    "\n",
    "#Low Rents (Below £750)\n",
    "#Properties with rent below £750 in South West & North West regions might be incorrect.\n",
    "#They could be heavily discounted or have wrong input data.\n",
    "\n",
    "#Zero Rent (£0.0)\n",
    "#Some properties (e.g., 1097, 1243, 1736, etc.) have zero rent values.\n",
    "#This might mean:\n",
    "#These properties are vacant.\n",
    "#They haven’t been rented out yet.\n",
    "#There is missing data in the system.\n",
    "\n",
    "#Solution applied: These rents were replaced with the median rent of their region."
   ]
  },
  {
   "cell_type": "code",
   "execution_count": 309,
   "id": "573eb75d-44a1-4852-ba34-7f4f7553d6ba",
   "metadata": {},
   "outputs": [
    {
     "name": "stdout",
     "output_type": "stream",
     "text": [
      "⚠️ Unusual Rents Detected:\n",
      "      Property_ID           Region  Achieved Rent\n",
      "1067         1068       South West         6500.0\n",
      "1096         1097  East of England            0.0\n",
      "1242         1243       South East            0.0\n",
      "1283         1284       South East            0.0\n",
      "1297         1298       South East            0.0\n",
      "1388         1389       South West          740.0\n",
      "1390         1391       South West          745.0\n",
      "1392         1393       South West          724.5\n",
      "1394         1395       South West          685.0\n",
      "1735         1736       South West            0.0\n",
      "1795         1796       South West            0.0\n",
      "4475       710067       North West          715.0\n",
      "4483       710075       North West          720.0\n",
      "4491       710083       North West          725.0\n",
      "4495       710087       North West          725.0\n",
      "4499       710091       North West          715.0\n",
      "4507       710099       North West          720.0\n",
      "4514       710106       North West          720.0\n",
      "5026       780019       North West            0.0\n",
      "5324       800001    West Midlands            0.0\n",
      "5433       820001    East Midlands            0.0\n",
      "✅ Extreme rent values corrected.\n"
     ]
    }
   ],
   "source": [
    "# Define rent threshold\n",
    "high_rent_threshold = 5000\n",
    "low_rent_threshold = 750\n",
    "\n",
    "# Identify outliers\n",
    "outliers = df[(df[\"Achieved Rent\"] > high_rent_threshold) | (df[\"Achieved Rent\"] < low_rent_threshold)]\n",
    "print(\"⚠️ Unusual Rents Detected:\")\n",
    "print(outliers[[\"Property_ID\", \"Region\", \"Achieved Rent\"]])\n",
    "\n",
    "# Fix outliers by replacing them with median rent per region\n",
    "df.loc[df[\"Achieved Rent\"] > high_rent_threshold, \"Achieved Rent\"] = df.groupby(\"Region\")[\"Achieved Rent\"].transform(\"median\")\n",
    "df.loc[df[\"Achieved Rent\"] < low_rent_threshold, \"Achieved Rent\"] = df.groupby(\"Region\")[\"Achieved Rent\"].transform(\"median\")\n",
    "\n",
    "print(\"✅ Extreme rent values corrected.\")\n"
   ]
  },
  {
   "cell_type": "code",
   "execution_count": null,
   "id": "7156c9b5-657e-4ac6-a16a-b71eb903b005",
   "metadata": {},
   "outputs": [],
   "source": [
    "# 🔹 Interpretation of Occupancy & Vacancy Rates:\n",
    "#100% Occupancy Rate in All Regions\n",
    "#This suggests that all available properties are rented and there are no vacant units.\n",
    "#This is unrealistic because in a real-world scenario, some properties should be vacant due to tenant turnover, repairs, or availability issues.\n",
    "\n",
    "    #Possible issues:\n",
    "#The dataset may have incorrectly marked all properties as occupied (1).\n",
    "#The Is_Occupied column might need verification.\n",
    "#Some properties might be vacant but still have historical rent values.\n",
    "#0% Vacancy Rate in All Regions\n",
    "#This is unexpected.\n",
    "#The normal real estate market always has some level of vacancy.\n",
    "#We might need to double-check how occupancy was calculated."
   ]
  },
  {
   "cell_type": "code",
   "execution_count": 319,
   "id": "9ad67aba-cb76-4799-be3a-85d6dc4daf2d",
   "metadata": {},
   "outputs": [
    {
     "name": "stdout",
     "output_type": "stream",
     "text": [
      "✅ Occupancy & Vacancy Rates Recalculated:\n",
      "                      Region  Occupancy_Rate  Vacancy_Rate\n",
      "0              West Midlands           100.0           0.0\n",
      "47    Yorkshire & the Humber           100.0           0.0\n",
      "237          East of England           100.0           0.0\n",
      "316            East Midlands           100.0           0.0\n",
      "398               South East           100.0           0.0\n",
      "649               South West           100.0           0.0\n",
      "1317              North East           100.0           0.0\n",
      "1539              North West           100.0           0.0\n",
      "2096                Scotland           100.0           0.0\n",
      "✅ Final dataset saved: LLoyds_group_final_corrected_fixed.xlsx\n"
     ]
    }
   ],
   "source": [
    "import pandas as pd\n",
    "\n",
    "# Load dataset\n",
    "file_path = \"LLoyds_group_final_corrected.xlsx\"\n",
    "df = pd.read_excel(file_path)\n",
    "\n",
    "# **Check for Is_Occupied Column**\n",
    "if \"Is_Occupied\" not in df.columns:\n",
    "    raise ValueError(\"❌ 'Is_Occupied' column is missing in the dataset! Check previous calculations.\")\n",
    "\n",
    "# Ensure Is_Occupied is an integer\n",
    "df[\"Is_Occupied\"] = df[\"Is_Occupied\"].astype(int)\n",
    "\n",
    "# 🔄 Recalculate Occupancy & Vacancy Rates per Region\n",
    "df[\"Occupancy_Rate\"] = df.groupby(\"Region\")[\"Is_Occupied\"].transform(lambda x: x.mean() * 100)\n",
    "df[\"Vacancy_Rate\"] = 100 - df[\"Occupancy_Rate\"]\n",
    "\n",
    "# ✅ Verify the updated rates\n",
    "print(\"✅ Occupancy & Vacancy Rates Recalculated:\")\n",
    "print(df[[\"Region\", \"Occupancy_Rate\", \"Vacancy_Rate\"]].drop_duplicates())\n",
    "\n",
    "# 📌 Save Final Dataset\n",
    "output_path = \"LLoyds_group_final_corrected_fixed.xlsx\"\n",
    "df.to_excel(output_path, index=False)\n",
    "print(f\"✅ Final dataset saved: {output_path}\")\n"
   ]
  },
  {
   "cell_type": "code",
   "execution_count": null,
   "id": "4eb81b51-51b9-4086-942e-cc21b7faf4d3",
   "metadata": {},
   "outputs": [],
   "source": []
  }
 ],
 "metadata": {
  "kernelspec": {
   "display_name": "Python 3 (ipykernel)",
   "language": "python",
   "name": "python3"
  },
  "language_info": {
   "codemirror_mode": {
    "name": "ipython",
    "version": 3
   },
   "file_extension": ".py",
   "mimetype": "text/x-python",
   "name": "python",
   "nbconvert_exporter": "python",
   "pygments_lexer": "ipython3",
   "version": "3.12.2"
  }
 },
 "nbformat": 4,
 "nbformat_minor": 5
}
